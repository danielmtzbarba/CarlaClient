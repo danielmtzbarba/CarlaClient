{
 "cells": [
  {
   "cell_type": "code",
   "execution_count": 1,
   "metadata": {},
   "outputs": [],
   "source": [
    "import carla\n",
    "\n",
    "import numpy as np\n",
    "import cv2\n",
    "import matplotlib.pyplot as plt\n",
    "from PIL import Image\n",
    "from time import sleep\n",
    "from copy import deepcopy\n",
    "\n",
    "%matplotlib inline"
   ]
  },
  {
   "cell_type": "code",
   "execution_count": 2,
   "metadata": {},
   "outputs": [],
   "source": [
    "client = carla.Client(\"localhost\", 2000)\n",
    "client.set_timeout(10)"
   ]
  },
  {
   "cell_type": "code",
   "execution_count": 3,
   "metadata": {},
   "outputs": [],
   "source": [
    "map_layers = [\n",
    "        #carla.MapLayer.Particles,\n",
    "        #carla.MapLayer.Buildings,\n",
    "        carla.MapLayer.Ground,\n",
    "        carla.MapLayer.Walls,\n",
    "        carla.MapLayer.Decals,\n",
    "        #carla.MapLayer.Foliage,\n",
    "        carla.MapLayer.ParkedVehicles,\n",
    "        #carla.MapLayer.Props,\n",
    "    ]\n",
    "\n",
    "def load_map(reload_map: bool, map_name: str):\n",
    "    if reload_map:\n",
    "\n",
    "        world = client.load_world(f\"{map_name}_Opt\",\n",
    "                                  map_layers=carla.MapLayer.NONE)\n",
    "        map = world.get_map()\n",
    "        print(\"Loaded map: \", str(map))\n",
    "\n",
    "        for layer in map_layers:\n",
    "            world.load_map_layer(layer)\n",
    "        \n",
    "    return world"
   ]
  },
  {
   "cell_type": "code",
   "execution_count": 38,
   "metadata": {},
   "outputs": [
    {
     "name": "stdout",
     "output_type": "stream",
     "text": [
      "Loaded map:  Map(name=Carla/Maps/Town01_Opt)\n"
     ]
    },
    {
     "data": {
      "text/plain": [
       "267536"
      ]
     },
     "execution_count": 38,
     "metadata": {},
     "output_type": "execute_result"
    }
   ],
   "source": [
    "map = \"Town01\"\n",
    "save_dir = f\"maps/{map}/\"\n",
    "\n",
    "stride = 64.0\n",
    "z = 32.0\n",
    "\n",
    "world =load_map(reload_map=True, map_name=map)\n",
    "\n",
    "settings = world.get_settings()\n",
    "settings.fixed_delta_seconds = 0.05\n",
    "world.apply_settings(settings)"
   ]
  },
  {
   "cell_type": "code",
   "execution_count": 39,
   "metadata": {},
   "outputs": [],
   "source": [
    "spectator = world.get_spectator()"
   ]
  },
  {
   "cell_type": "code",
   "execution_count": 40,
   "metadata": {},
   "outputs": [],
   "source": [
    "img_size = 1024\n",
    "\n",
    "camera_bp = world.get_blueprint_library().find('sensor.camera.semantic_segmentation')\n",
    "camera_transform = carla.Transform(carla.Location(x=0.0, y=0.0, z=32.0), carla.Rotation(yaw=+00, pitch=-90))\n",
    "camera_bp.set_attribute(\"image_size_x\",str(img_size))\n",
    "camera_bp.set_attribute(\"image_size_y\",str(img_size))\n",
    "camera_bp.set_attribute(\"fov\",str(90))\n",
    "camera = world.spawn_actor(camera_bp, camera_transform)"
   ]
  },
  {
   "cell_type": "code",
   "execution_count": 41,
   "metadata": {},
   "outputs": [],
   "source": [
    "def get_image(data):\n",
    "    global frame\n",
    "    frame = data\n",
    "\n",
    "def process_frame(frame, path):\n",
    "    frame.convert(carla.ColorConverter.CityScapesPalette)\n",
    "    raw = np.array(frame.raw_data).astype('uint8')\n",
    "    bgra = np.reshape(raw, (img_size, img_size, 4))\n",
    "    bgra = Image.fromarray(bgra, 'RGBA')\n",
    "    img = bgra.convert(\"L\")\n",
    "    img.save(path)\n",
    "    return img"
   ]
  },
  {
   "cell_type": "code",
   "execution_count": 42,
   "metadata": {},
   "outputs": [],
   "source": [
    "camera.listen(lambda data: get_image(data))"
   ]
  },
  {
   "cell_type": "code",
   "execution_count": 43,
   "metadata": {},
   "outputs": [],
   "source": [
    "def get_mosaic(locs, save_dir):\n",
    "    imgs = []\n",
    "    for loc in locs:\n",
    "        camera.set_location(loc)\n",
    "        spectator.set_transform(camera.get_transform())\n",
    "        sleep(0.15)\n",
    "        img_path = f\"{save_dir}/{map}-{int(loc.x)},{int(loc.y)}.jpg\"\n",
    "        img = process_frame(frame, img_path)\n",
    "        imgs.append(img)\n",
    "    return imgs\n",
    "\n",
    "def concat_mosaic(imgs, path='mosaic.jpg'):\n",
    "    ab = np.concatenate((np.array(imgs[2]), np.array(imgs[3])), axis=1)\n",
    "    cd = np.concatenate((np.array(imgs[0]), np.array(imgs[1])), axis=1)\n",
    "    abcd = np.concatenate((ab, cd), axis=0)\n",
    "\n",
    "    abcd.shape\n",
    "    mosaic = Image.fromarray(abcd)\n",
    "    mosaic.save(path)\n",
    "    return abcd"
   ]
  },
  {
   "cell_type": "code",
   "execution_count": 44,
   "metadata": {},
   "outputs": [],
   "source": [
    "mopsychos=[]\n",
    "\n",
    "stride = 64.0\n",
    "coords = [np.array([0.0, 0.0]), np.array([0.0, stride]), np.array([stride, 0.0]), np.array([stride, stride])] \n",
    "\n",
    "offx = 0.0\n",
    "for offx in [0.0, 128.0, 256.0, 384.0]:\n",
    "    mosaics=[]\n",
    "    for offy in [0.0, 128.0, 256.0]:\n",
    "        locs = [carla.Location(x=coord[0]+offx, y=coord[1]+offy, z=z) for coord in coords]\n",
    "        imgs = get_mosaic(locs, save_dir)\n",
    "        mosaics.append(concat_mosaic(imgs, f\"{int(offx)}, {int(offy)}.jpg\"))\n",
    "\n",
    "    mopsychos.append(np.concatenate([np.array(im) for im in mosaics], axis=1))\n",
    "\n",
    "mopsychos.reverse()\n",
    "psycho = np.concatenate([np.array(im) for im in mopsychos], axis=0)"
   ]
  },
  {
   "cell_type": "code",
   "execution_count": 45,
   "metadata": {},
   "outputs": [],
   "source": [
    "mo = Image.fromarray(psycho)\n",
    "mo.save(f\"maps/{map}/{map}-{img_size}.jpg\")"
   ]
  },
  {
   "cell_type": "code",
   "execution_count": 46,
   "metadata": {},
   "outputs": [
    {
     "data": {
      "image/png": "[encoded data removed]",
      "text/plain": [
       "<Figure size 640x480 with 1 Axes>"
      ]
     },
     "metadata": {},
     "output_type": "display_data"
    }
   ],
   "source": [
    "plt.imshow(psycho)\n",
    "plt.grid(False)\n",
    "plt.axis('off')\n",
    "plt.show()"
   ]
  },
  {
   "cell_type": "markdown",
   "metadata": {},
   "source": [
    "# Preprocess"
   ]
  },
  {
   "cell_type": "code",
   "execution_count": 47,
   "metadata": {},
   "outputs": [
    {
     "data": {
      "text/plain": [
       "array([  0,  21,  42,  83,  85,  90, 106, 118, 137, 138, 153, 154, 157,\n",
       "       170, 171], dtype=uint8)"
      ]
     },
     "execution_count": 47,
     "metadata": {},
     "output_type": "execute_result"
    }
   ],
   "source": [
    "np.unique(psycho)"
   ]
  },
  {
   "cell_type": "code",
   "execution_count": 48,
   "metadata": {},
   "outputs": [],
   "source": [
    "bev_classes = {\n",
    "        0:   0, # Non-Free\n",
    "\n",
    "        21:     6, # idk  \n",
    "    }\n",
    "\n",
    "def remap_seg(bev_img, bev_mapping, n_classes):\n",
    "    bev_img = bev_img.copy()\n",
    "    for val, klass in bev_mapping.items():\n",
    "        bev_img[bev_img == val] = klass\n",
    "   # bev_img[bev_img > n_classes] = 0\n",
    "    return bev_img\n",
    "\n",
    "map = remap_seg(psycho, bev_classes, n_classes=5)"
   ]
  },
  {
   "cell_type": "code",
   "execution_count": 49,
   "metadata": {},
   "outputs": [
    {
     "data": {
      "text/plain": [
       "(array([  0,   6,  42,  83,  85,  90, 106, 118, 137, 138, 153, 154, 157,\n",
       "        170, 171], dtype=uint8),\n",
       " array([ 1011149,     2759,    20197,     9558, 10850660,  6080914,\n",
       "          169222, 15343614,     2451, 16464958,     2549,     1193,\n",
       "          324486,    32629,    15309]))"
      ]
     },
     "execution_count": 49,
     "metadata": {},
     "output_type": "execute_result"
    }
   ],
   "source": [
    "np.unique(map, return_counts=True)"
   ]
  },
  {
   "cell_type": "code",
   "execution_count": 50,
   "metadata": {},
   "outputs": [
    {
     "data": {
      "image/png": "[encoded data removed]",
      "text/plain": [
       "<Figure size 640x480 with 1 Axes>"
      ]
     },
     "metadata": {},
     "output_type": "display_data"
    }
   ],
   "source": [
    "plt.imshow(map)\n",
    "plt.grid(False)\n",
    "plt.axis('off')\n",
    "plt.show()"
   ]
  },
  {
   "cell_type": "code",
   "execution_count": null,
   "metadata": {},
   "outputs": [],
   "source": [
    "bev_class2color = {\n",
    "    0:  (150, 150, 150), # Non-Free\n",
    "    1:  (255, 255, 255), # Free space\n",
    "    2:  (220, 220, 220),  # Sidewalk\n",
    "    3:  (  0,   7, 165),      # Vehicles\n",
    "    4:  (200,  35,   0),      # Pedestrians\n",
    "    5:  (255, 209, 103),    # RoadLines\n",
    "}"
   ]
  }
 ],
 "metadata": {
  "kernelspec": {
   "display_name": "carla",
   "language": "python",
   "name": "python3"
  },
  "language_info": {
   "codemirror_mode": {
    "name": "ipython",
    "version": 3
   },
   "file_extension": ".py",
   "mimetype": "text/x-python",
   "name": "python",
   "nbconvert_exporter": "python",
   "pygments_lexer": "ipython3",
   "version": "3.10.15"
  }
 },
 "nbformat": 4,
 "nbformat_minor": 2
}
